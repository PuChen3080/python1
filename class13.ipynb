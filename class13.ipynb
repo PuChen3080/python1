{
  "nbformat": 4,
  "nbformat_minor": 0,
  "metadata": {
    "colab": {
      "provenance": []
    },
    "kernelspec": {
      "name": "python3",
      "display_name": "Python 3"
    },
    "language_info": {
      "name": "python"
    }
  },
  "cells": [
    {
      "cell_type": "code",
      "source": [
        "class hand:\n",
        "    def __init__(self):\n",
        "        return(None)"
      ],
      "metadata": {
        "id": "aJaMSpuhRlju"
      },
      "execution_count": 9,
      "outputs": []
    },
    {
      "cell_type": "code",
      "source": [],
      "metadata": {
        "id": "LOEh1C1lS7pc"
      },
      "execution_count": null,
      "outputs": []
    },
    {
      "cell_type": "code",
      "source": [],
      "metadata": {
        "id": "YJGeUnOHTf2N"
      },
      "execution_count": null,
      "outputs": []
    },
    {
      "cell_type": "code",
      "source": [
        "dir(hand)"
      ],
      "metadata": {
        "colab": {
          "base_uri": "https://localhost:8080/"
        },
        "id": "NTQHeAiETgSw",
        "outputId": "ac4efc0f-ebca-42cd-bb4c-a4d562304526"
      },
      "execution_count": 13,
      "outputs": [
        {
          "output_type": "execute_result",
          "data": {
            "text/plain": [
              "['__class__',\n",
              " '__delattr__',\n",
              " '__dict__',\n",
              " '__dir__',\n",
              " '__doc__',\n",
              " '__eq__',\n",
              " '__format__',\n",
              " '__ge__',\n",
              " '__getattribute__',\n",
              " '__gt__',\n",
              " '__hash__',\n",
              " '__init__',\n",
              " '__init_subclass__',\n",
              " '__le__',\n",
              " '__lt__',\n",
              " '__module__',\n",
              " '__ne__',\n",
              " '__new__',\n",
              " '__reduce__',\n",
              " '__reduce_ex__',\n",
              " '__repr__',\n",
              " '__setattr__',\n",
              " '__sizeof__',\n",
              " '__str__',\n",
              " '__subclasshook__',\n",
              " '__weakref__']"
            ]
          },
          "metadata": {},
          "execution_count": 13
        }
      ]
    },
    {
      "cell_type": "code",
      "source": [
        "h2 = hand()\n",
        "h2.index = 0\n",
        "h2.middle = 0\n",
        "h2.ring = 0\n",
        "h2.pinky = 0\n",
        "h2.thumb = 0"
      ],
      "metadata": {
        "id": "gBpQ12UNRmGP"
      },
      "execution_count": 14,
      "outputs": []
    },
    {
      "cell_type": "code",
      "source": [],
      "metadata": {
        "id": "Busr9Vd9Shiy"
      },
      "execution_count": null,
      "outputs": []
    },
    {
      "cell_type": "code",
      "execution_count": 15,
      "metadata": {
        "id": "mAv3UBP0RjnD"
      },
      "outputs": [],
      "source": [
        "class hand():\n",
        "  def __init__(self):\n",
        "    self.index = 11\n",
        "    self.middle = 12\n",
        "    self.ring = 13\n",
        "    self.pinky = 14\n",
        "    self.thumb = 15\n"
      ]
    },
    {
      "cell_type": "code",
      "source": [
        "h4 = hand()"
      ],
      "metadata": {
        "id": "nZsm0Fo_TaS6"
      },
      "execution_count": 16,
      "outputs": []
    },
    {
      "cell_type": "code",
      "source": [
        "h4.pinky"
      ],
      "metadata": {
        "colab": {
          "base_uri": "https://localhost:8080/"
        },
        "id": "xED5kpkQTcae",
        "outputId": "c4dd41e3-9e4b-4983-8c23-dc11bd543463"
      },
      "execution_count": 18,
      "outputs": [
        {
          "output_type": "execute_result",
          "data": {
            "text/plain": [
              "14"
            ]
          },
          "metadata": {},
          "execution_count": 18
        }
      ]
    },
    {
      "cell_type": "code",
      "source": [
        "class hand():\n",
        "  def __init__ (self,thumb,index,middle,ring,pinky):\n",
        "      self.thumb = thumb\n",
        "      self.index = index\n",
        "      self.middle = middle\n",
        "      self.ring = ring\n",
        "      self.pinky = pinky\n",
        "      return None\n",
        "  def __str__(self):\n",
        "    return('This is a string!!')\n",
        "\n",
        "  def __repr__(self):\n",
        "    return \"{},{},{},{},{}\".format(self.pinky,self.middle,self.index,self.ring,self.thumb)"
      ],
      "metadata": {
        "id": "uofLyTZtTwE1"
      },
      "execution_count": 67,
      "outputs": []
    },
    {
      "cell_type": "code",
      "source": [
        "h6 = hand(31,32,33,34,35)"
      ],
      "metadata": {
        "id": "bmqBD0vsUhRN"
      },
      "execution_count": 68,
      "outputs": []
    },
    {
      "cell_type": "code",
      "source": [
        "h6.ring"
      ],
      "metadata": {
        "colab": {
          "base_uri": "https://localhost:8080/"
        },
        "id": "SEiSXi6VUhw-",
        "outputId": "2f58205b-337b-45ec-a326-b0f26c5089dd"
      },
      "execution_count": 69,
      "outputs": [
        {
          "output_type": "execute_result",
          "data": {
            "text/plain": [
              "34"
            ]
          },
          "metadata": {},
          "execution_count": 69
        }
      ]
    },
    {
      "cell_type": "code",
      "source": [
        "print(h6)"
      ],
      "metadata": {
        "colab": {
          "base_uri": "https://localhost:8080/"
        },
        "id": "Ko9IhOkDUiAY",
        "outputId": "1e6933c8-85e3-4a79-aa01-626be15f250d"
      },
      "execution_count": 70,
      "outputs": [
        {
          "output_type": "stream",
          "name": "stdout",
          "text": [
            "This is a string!!\n"
          ]
        }
      ]
    },
    {
      "cell_type": "code",
      "source": [
        "h6"
      ],
      "metadata": {
        "colab": {
          "base_uri": "https://localhost:8080/"
        },
        "id": "kMOLpkK-VbAa",
        "outputId": "85c15a16-2d85-4287-beca-1c0db2f46a80"
      },
      "execution_count": 71,
      "outputs": [
        {
          "output_type": "execute_result",
          "data": {
            "text/plain": [
              "35,33,32,34,31"
            ]
          },
          "metadata": {},
          "execution_count": 71
        }
      ]
    },
    {
      "cell_type": "code",
      "source": [
        "def OpenHand(x):\n",
        "  x.thumb = 1\n",
        "  x.index = 1\n",
        "  x.ring = 1\n",
        "  x.middle = 1\n",
        "  x.pinky = 1"
      ],
      "metadata": {
        "id": "KkVFKiAOVbaK"
      },
      "execution_count": 81,
      "outputs": []
    },
    {
      "cell_type": "code",
      "source": [
        "h9 = hand(0,0,0,0,0)\n",
        "h10 = hand(0,0,0,0,0)"
      ],
      "metadata": {
        "id": "tR28IEh3Vbm_"
      },
      "execution_count": 82,
      "outputs": []
    },
    {
      "cell_type": "code",
      "source": [
        "def Hi5(hand1,hand2):\n",
        "  OpenHand(hand1)\n",
        "  OpenHand(hand2)"
      ],
      "metadata": {
        "id": "E2cc9HNpVbuG"
      },
      "execution_count": 83,
      "outputs": []
    },
    {
      "cell_type": "code",
      "source": [
        "h9"
      ],
      "metadata": {
        "colab": {
          "base_uri": "https://localhost:8080/"
        },
        "id": "XorVQaXXXte3",
        "outputId": "89ba4b9a-462b-442e-d1ff-18b06fea79e7"
      },
      "execution_count": 84,
      "outputs": [
        {
          "output_type": "execute_result",
          "data": {
            "text/plain": [
              "0,0,0,0,0"
            ]
          },
          "metadata": {},
          "execution_count": 84
        }
      ]
    },
    {
      "cell_type": "code",
      "source": [
        "Hi5(h9,h10)"
      ],
      "metadata": {
        "id": "ah3xmQURXvQE"
      },
      "execution_count": 85,
      "outputs": []
    },
    {
      "cell_type": "code",
      "source": [
        "class bond():\n",
        "  def __init__(self):\n",
        "    pass\n",
        "  def PopulateMe(self,face,couponrate,y,m):\n",
        "    self.face = face\n",
        "    self.couponrate = couponrate\n",
        "    self.y = y\n",
        "    self.m = m\n",
        "  def PriceBond(self):\n",
        "    face = self.face\n",
        "    couponrate = self.couponrate\n",
        "    y = self.y\n",
        "    m = self.m\n",
        "    t = np.arange(1,m+1)\n",
        "    pv = (1+y)**-t\n",
        "    price = (sum(pv*couponrate)+pv[-1])*face\n",
        "    return(price)\n",
        "  def PriceDuration(self):\n",
        "    face = self.face\n",
        "    couponrate = self.couponrate\n",
        "    y = self.y\n",
        "    m = self.m\n",
        "    t = np.arange(1,m+1)\n",
        "    pv = (1+y)**-t\n",
        "    price = (sum(pv*couponrate)+pv[-1])*face\n",
        "    tprice = (sum(t*pv*couponrate)+m*pv[-1])*face\n",
        "    return(tprice/price)\n",
        ""
      ],
      "metadata": {
        "id": "xFrHIvNDYHBd"
      },
      "execution_count": 114,
      "outputs": []
    },
    {
      "cell_type": "code",
      "source": [
        "import numpy as np"
      ],
      "metadata": {
        "id": "a_FTOci1Xvd_"
      },
      "execution_count": 110,
      "outputs": []
    },
    {
      "cell_type": "code",
      "source": [
        "b = bond()"
      ],
      "metadata": {
        "id": "TL9Z5DLqXvl5"
      },
      "execution_count": 115,
      "outputs": []
    },
    {
      "cell_type": "code",
      "source": [
        "b.PopulateMe(2000000, .04, .03, 10)"
      ],
      "metadata": {
        "id": "eoshs38HXvuK"
      },
      "execution_count": 116,
      "outputs": []
    },
    {
      "cell_type": "code",
      "source": [
        "b.PriceBond()"
      ],
      "metadata": {
        "colab": {
          "base_uri": "https://localhost:8080/"
        },
        "id": "DOrUABJ1Xv0C",
        "outputId": "28363820-4ac5-4cd4-d448-7aaf3690c2b0"
      },
      "execution_count": 117,
      "outputs": [
        {
          "output_type": "execute_result",
          "data": {
            "text/plain": [
              "2170604.056735516"
            ]
          },
          "metadata": {},
          "execution_count": 117
        }
      ]
    },
    {
      "cell_type": "code",
      "source": [
        "b.PriceDuration()"
      ],
      "metadata": {
        "colab": {
          "base_uri": "https://localhost:8080/"
        },
        "id": "09q1Cz65am3j",
        "outputId": "9c6fb513-e726-49d3-d6ed-436f8ee5546c"
      },
      "execution_count": 118,
      "outputs": [
        {
          "output_type": "execute_result",
          "data": {
            "text/plain": [
              "8.508690304459575"
            ]
          },
          "metadata": {},
          "execution_count": 118
        }
      ]
    },
    {
      "cell_type": "code",
      "source": [
        "class bond():\n",
        "    def __init__(self, face, couponrate, y, m):\n",
        "        self.face = face\n",
        "        self.couponrate = couponrate\n",
        "        self.y = y\n",
        "        self.m = m\n",
        "\n",
        "    def PriceBond(self):\n",
        "        face = self.face\n",
        "        couponrate = self.couponrate\n",
        "        y = self.y\n",
        "        m = self.m\n",
        "        t = np.arange(1,m+1)\n",
        "        pv = (1+y)**-t\n",
        "        price = (sum(pv*couponrate) + pv[-1])*face\n",
        "        return(price)\n",
        "\n",
        "    def PriceDuration(self):\n",
        "        face = self.face\n",
        "        couponrate = self.couponrate\n",
        "        y = self.y\n",
        "        m = self.m\n",
        "        t = np.arange(1,m+1)\n",
        "        pv = (1+y)**-t\n",
        "        price = (sum(pv*couponrate) + pv[-1])*face\n",
        "        tprice = (sum(t*pv*couponrate) + m*pv[-1])*face\n",
        "        return tprice/price"
      ],
      "metadata": {
        "id": "6t8-332IXv9l"
      },
      "execution_count": 120,
      "outputs": []
    },
    {
      "cell_type": "code",
      "source": [
        "b.PriceBond()"
      ],
      "metadata": {
        "colab": {
          "base_uri": "https://localhost:8080/"
        },
        "id": "TjEFS1UpXwHV",
        "outputId": "528e308f-92de-4e61-c72c-2519a4750f33"
      },
      "execution_count": 123,
      "outputs": [
        {
          "output_type": "execute_result",
          "data": {
            "text/plain": [
              "2170604.056735516"
            ]
          },
          "metadata": {},
          "execution_count": 123
        }
      ]
    },
    {
      "cell_type": "code",
      "source": [
        "b.PriceDuration()"
      ],
      "metadata": {
        "colab": {
          "base_uri": "https://localhost:8080/"
        },
        "id": "DxsUcIEzXwNQ",
        "outputId": "aa3a9aab-1d5b-4426-d442-eb40fe91e6db"
      },
      "execution_count": 124,
      "outputs": [
        {
          "output_type": "execute_result",
          "data": {
            "text/plain": [
              "8.508690304459575"
            ]
          },
          "metadata": {},
          "execution_count": 124
        }
      ]
    },
    {
      "cell_type": "code",
      "source": [],
      "metadata": {
        "id": "mWORx0LhXwWg"
      },
      "execution_count": null,
      "outputs": []
    }
  ]
}